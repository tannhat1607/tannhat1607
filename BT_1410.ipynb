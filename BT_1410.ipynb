{
  "nbformat": 4,
  "nbformat_minor": 0,
  "metadata": {
    "colab": {
      "name": "BT 1410",
      "provenance": [],
      "collapsed_sections": [],
      "authorship_tag": "ABX9TyOb9i+pShI02kIJafiQG5Cb",
      "include_colab_link": true
    },
    "kernelspec": {
      "name": "python3",
      "display_name": "Python 3"
    },
    "language_info": {
      "name": "python"
    }
  },
  "cells": [
    {
      "cell_type": "markdown",
      "metadata": {
        "id": "view-in-github",
        "colab_type": "text"
      },
      "source": [
        "<a href=\"https://colab.research.google.com/github/tannhat1607/tannhat1607/blob/main/BT_1410.ipynb\" target=\"_parent\"><img src=\"https://colab.research.google.com/assets/colab-badge.svg\" alt=\"Open In Colab\"/></a>"
      ]
    },
    {
      "cell_type": "markdown",
      "metadata": {
        "id": "8EzYrhOQfZkw"
      },
      "source": [
        "1. Write a Python program to find the number of days in a month.\n",
        "Test Data\n",
        "Input a month number: 2\n",
        "Input a year: 2016\n",
        "Expected Output :\n",
        "February 2016 has 29 days"
      ]
    },
    {
      "cell_type": "code",
      "metadata": {
        "colab": {
          "base_uri": "https://localhost:8080/"
        },
        "id": "XUq1VL3ub8hx",
        "outputId": "7c59ef69-706a-4dd0-f510-7fcde3ce500f"
      },
      "source": [
        "month=int(input(\"nhập vào tháng (1-12)\"))\n",
        "year=int(input(\"năm\"))\n",
        "if month==2 and year%4==0:\n",
        "  print(\"tháng 2 có 29 ngày \"+str(year))\n",
        "elif month==2 :\n",
        "  print(\"tháng 2 có 28 ngày\"+str(year))  \n",
        "elif month==1 or month==3 or month==5 or month==7 or month==8 or month==10 or month==12:\n",
        "  print(\"tháng\"+ str(month)+\" có 31 ngày\"+str(year))  \n",
        "else:\n",
        "  print(\"tháng\"+ str(month) +\" có 30 ngày\"+str(year))\n",
        "\n"
      ],
      "execution_count": null,
      "outputs": [
        {
          "output_type": "stream",
          "name": "stdout",
          "text": [
            "nhập vào tháng (1-12)1\n",
            "năm2012\n",
            "tháng1 có 31 ngày2012\n"
          ]
        }
      ]
    },
    {
      "cell_type": "markdown",
      "metadata": {
        "id": "kgmGRUH2hONM"
      },
      "source": [
        "2. Write a Python program that takes the user to provide a single character from the alphabet. Print\n",
        "Vowel or Consonant, depending on the user input. If the user input is not a letter (between a and z\n",
        "or A and Z), or is a string of length > 1, print an error message."
      ]
    },
    {
      "cell_type": "code",
      "metadata": {
        "id": "7_nUqj46aGMV"
      },
      "source": [
        ""
      ],
      "execution_count": null,
      "outputs": []
    },
    {
      "cell_type": "code",
      "metadata": {
        "colab": {
          "base_uri": "https://localhost:8080/"
        },
        "id": "ShEW2P2xhANf",
        "outputId": "68cb6977-36cc-46c8-de7e-c002b3ef5d26"
      },
      "source": [
        "nhap=str(input(\"nhập 1 chữ cái\"))\n",
        "x=[string.ascii_uppercase]\n",
        "if nhap==x or len(nhap)<=1:\n",
        "  print(\"ok\")\n",
        "  if nhap in ('u','e','o','a','i'):\n",
        "    print(\"phụ âm\")\n",
        "  else:\n",
        "    print(\"nguyên âm\")  \n",
        "else:\n",
        "  print(\"loi\") \n",
        "\n"
      ],
      "execution_count": 20,
      "outputs": [
        {
          "output_type": "stream",
          "name": "stdout",
          "text": [
            "nhập 1 chữ cáia\n",
            "ok\n",
            "phụ âm\n"
          ]
        }
      ]
    },
    {
      "cell_type": "markdown",
      "metadata": {
        "id": "cBVbOLFxhAr4"
      },
      "source": [
        "3. Write a Python program that takes a year from user and print whether that year is a leap year or\n",
        "not\n"
      ]
    },
    {
      "cell_type": "code",
      "metadata": {
        "colab": {
          "base_uri": "https://localhost:8080/"
        },
        "id": "Hm3YpJfojMGS",
        "outputId": "a339ef7b-59c2-4d67-bd4f-e9fa87807e60"
      },
      "source": [
        "year=int(input(\"Nhập vào năm\"))\n",
        "year=abs(year)\n",
        "if year%4==0:\n",
        "  print(str(year)+\"đây là năm nhuận\")\n",
        "else:\n",
        "  print(str(year)+\"không phải năm nhuận\")"
      ],
      "execution_count": null,
      "outputs": [
        {
          "output_type": "stream",
          "name": "stdout",
          "text": [
            "Nhập vào năm-2050\n",
            "2050không phải năm nhuận\n"
          ]
        }
      ]
    },
    {
      "cell_type": "markdown",
      "metadata": {
        "id": "3_KAS6sfkIT7"
      },
      "source": [
        "4. Write a program in Python to input 5 numbers from keyboard and find their sum and average."
      ]
    },
    {
      "cell_type": "code",
      "metadata": {
        "colab": {
          "base_uri": "https://localhost:8080/"
        },
        "id": "ICCfbyTskZDA",
        "outputId": "c14b3f3c-606a-4483-e212-96b745c7fd7b"
      },
      "source": [
        "a=float(input(\"nhập số thứ nhất\"))\n",
        "b=float(input(\"nhập số thứ hai\"))\n",
        "c=float(input(\"nhập số thứ ba\"))\n",
        "d=float(input(\"nhập số thứ tư\"))\n",
        "e=float(input(\"nhập số thứ năm\"))\n",
        "tong=a+b+c+d+e\n",
        "TB=tong/5\n",
        "print(\"tổng là\",tong)\n",
        "print(\"Trung bình cộng là\",TB)"
      ],
      "execution_count": null,
      "outputs": [
        {
          "output_type": "stream",
          "name": "stdout",
          "text": [
            "nhập số thứ nhất5\n",
            "nhập số thứ hai4\n",
            "nhập số thứ ba3\n",
            "nhập số thứ tư2\n",
            "nhập số thứ năm1\n",
            "tổng là 15.0\n",
            "Trung bình cộng là 3.0\n"
          ]
        }
      ]
    }
  ]
}