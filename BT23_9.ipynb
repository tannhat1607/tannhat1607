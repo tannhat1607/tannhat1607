{
  "nbformat": 4,
  "nbformat_minor": 0,
  "metadata": {
    "colab": {
      "name": "BT23/9",
      "provenance": [],
      "authorship_tag": "ABX9TyOV+pkmr4jfIUf51bZbMKx9",
      "include_colab_link": true
    },
    "kernelspec": {
      "name": "python3",
      "display_name": "Python 3"
    },
    "language_info": {
      "name": "python"
    }
  },
  "cells": [
    {
      "cell_type": "markdown",
      "metadata": {
        "id": "view-in-github",
        "colab_type": "text"
      },
      "source": [
        "<a href=\"https://colab.research.google.com/github/tannhat1607/tannhat1607/blob/main/BT23_9.ipynb\" target=\"_parent\"><img src=\"https://colab.research.google.com/assets/colab-badge.svg\" alt=\"Open In Colab\"/></a>"
      ]
    },
    {
      "cell_type": "code",
      "metadata": {
        "colab": {
          "base_uri": "https://localhost:8080/"
        },
        "id": "vxMJ8dlWQNqL",
        "outputId": "d409c510-e007-45f6-ae76-a17136c47925"
      },
      "source": [
        "#1\n",
        "x = []\n",
        "#2\n",
        "x.append(18)\n",
        "#3\n",
        "x.append(\"Huế\")\n",
        "#4\n",
        "y=[12,45,-1,-0.56,\"abc\"]\n",
        "#5\n",
        "x.extend(y)\n",
        "#6\n",
        "print(\"giá trị của x: \",x)\n",
        "#7\n",
        "print(\"giá trị của phần tử cuối và đầu của x là: \", x[-1], \"và\", str(x[0]))\n",
        "#8\n",
        "print(\"giá trị của phần tử đầu đến phần tử thứ 5 của x là: \", x[0:5])\n",
        "#9\n",
        "print(\"giá trị của phần tử thứ 3 đến cuối của x là: \", x[2:])"
      ],
      "execution_count": 1,
      "outputs": [
        {
          "output_type": "stream",
          "name": "stdout",
          "text": [
            "giá trị của x:  [18, 'Huế', 12, 45, -1, -0.56, 'abc']\n",
            "giá trị của phần tử cuối và đầu của x là:  abc và 18\n",
            "giá trị của phần tử đầu đến phần tử thứ 5 của x là:  [18, 'Huế', 12, 45, -1]\n",
            "giá trị của phần tử thứ 3 đến cuối của x là:  [12, 45, -1, -0.56, 'abc']\n"
          ]
        }
      ]
    }
  ]
}