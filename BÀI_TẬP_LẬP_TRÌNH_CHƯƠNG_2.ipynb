{
  "nbformat": 4,
  "nbformat_minor": 0,
  "metadata": {
    "colab": {
      "name": "BÀI TẬP LẬP TRÌNH CHƯƠNG 2",
      "provenance": [],
      "authorship_tag": "ABX9TyORtFdFQp9tHwo7H5qNtX/b",
      "include_colab_link": true
    },
    "kernelspec": {
      "name": "python3",
      "display_name": "Python 3"
    },
    "language_info": {
      "name": "python"
    }
  },
  "cells": [
    {
      "cell_type": "markdown",
      "metadata": {
        "id": "view-in-github",
        "colab_type": "text"
      },
      "source": [
        "<a href=\"https://colab.research.google.com/github/tannhat1607/tannhat1607/blob/main/B%C3%80I_T%E1%BA%ACP_L%E1%BA%ACP_TR%C3%8CNH_CH%C6%AF%C6%A0NG_2.ipynb\" target=\"_parent\"><img src=\"https://colab.research.google.com/assets/colab-badge.svg\" alt=\"Open In Colab\"/></a>"
      ]
    },
    {
      "cell_type": "markdown",
      "metadata": {
        "id": "a0KUtaTr_CRY"
      },
      "source": [
        "Bài 1: Lập trình nhập vào từ bàn phím 2 số nguyên và tính:\n",
        "\n",
        "1. Tổng của 2 số\n",
        "2. Tích của 2 số\n",
        "3. Hiệu của 2 số\n",
        "4. Phép chia lấy phần dư của 2 số\n",
        "5. Phép chia lấy phần nguyên của 2 số"
      ]
    },
    {
      "cell_type": "code",
      "metadata": {
        "colab": {
          "base_uri": "https://localhost:8080/"
        },
        "id": "uO26tFGF-qvR",
        "outputId": "1944ebf0-0ff1-4f54-dcb0-37e01ae7c7de"
      },
      "source": [
        "\n",
        "soA=int(input(\"nhap so A\"))\n",
        "soB=int(input(\"nhap so B\"))\n",
        "print(\"tong la \",soA+soB)\n",
        "print(\"tich la \",soA*soB)\n",
        "print(\"hieu la \",soA-soB)\n",
        "print(\"phan du la \",soA%soB)\n",
        "print(\"phan nguyen la\",soA//soB)\n"
      ],
      "execution_count": 9,
      "outputs": [
        {
          "output_type": "stream",
          "name": "stdout",
          "text": [
            "nhap so A2\n",
            "nhap so B4\n",
            "tong la  6\n",
            "tich la  8\n",
            "hieu la  -2\n",
            "phan du la  2\n",
            "phan nguyen la 0\n"
          ]
        }
      ]
    },
    {
      "cell_type": "markdown",
      "metadata": {
        "id": "Nnr1C3aT_A_3"
      },
      "source": [
        "\n",
        "Bài 2: Lập trình nhập vào từ bàn phím 2 số thực và tính:\n",
        "\n",
        "  1. Tổng của 2 số\n",
        "  2. Tích của 2 số\n",
        "  3. Hiệu của 2 số\n",
        "  4. Thương của 2 số"
      ]
    },
    {
      "cell_type": "code",
      "metadata": {
        "colab": {
          "base_uri": "https://localhost:8080/"
        },
        "id": "QFINEgidKEXO",
        "outputId": "b95977db-4e55-4a61-bf5d-0c2c2355fde8"
      },
      "source": [
        "soA=float(input(\"nhap so A\"))\n",
        "soB=float(input(\"nhap so B\"))\n",
        "print(\"tong la \",soA+soB)\n",
        "print(\"tich la \",soA*soB)\n",
        "print(\"hieu la \",soA-soB)\n",
        "print(\"thuong la \",soA/soB)"
      ],
      "execution_count": 1,
      "outputs": [
        {
          "output_type": "stream",
          "name": "stdout",
          "text": [
            "nhap so A2.4\n",
            "nhap so B4.5\n",
            "tong la  6.9\n",
            "tich la  10.799999999999999\n",
            "hieu la  -2.1\n",
            "thuong la  0.5333333333333333\n"
          ]
        }
      ]
    },
    {
      "cell_type": "markdown",
      "metadata": {
        "id": "GQArVvukKNef"
      },
      "source": [
        "Bài 3: (Sử dụng các hàm toán học) Nhập một số từ bàn phím và tính:\n",
        "\n",
        "1. Trị tuyệt đối\n",
        "2. Lấy phần nguyên của số\n",
        "3. Chuyển đổi thành số thực\n",
        "4. (nhập thêm 1 số từ bàn phím) và tính lũy thừa $ x^y $\n",
        "5. Tính căn bậc hai"
      ]
    },
    {
      "cell_type": "code",
      "metadata": {
        "colab": {
          "base_uri": "https://localhost:8080/"
        },
        "id": "P8EJpZT7Kre-",
        "outputId": "c85d35ca-b2dc-4c5f-d0f7-6bf808a93fdd"
      },
      "source": [
        "import math\n",
        "x=float(input(\"nhap so thu nhat \"))\n",
        "y=float(input(\"nhap so thu hai \"))\n",
        "print(\"tri tuyet doi\",math.fabs(x))\n",
        "print(\"lay phan nguyen\",math.trunc(x))\n",
        "print(\"chuyen thanh so thuc\",float(x))\n",
        "print(\"luy thua\",x**y)\n",
        "print(\"can bac 2\",math.sqrt(x))\n"
      ],
      "execution_count": 32,
      "outputs": [
        {
          "output_type": "stream",
          "name": "stdout",
          "text": [
            "nhap so thu nhat 4\n",
            "nhap so thu hai 2\n",
            "tri tuyet doi 4.0\n",
            "lay phan nguyen 4\n",
            "chuyen thanh so thuc 4.0\n",
            "luy thua 16.0\n",
            "can bac 2 2.0\n"
          ]
        }
      ]
    },
    {
      "cell_type": "markdown",
      "metadata": {
        "id": "cVKaa9UKeIt1"
      },
      "source": [
        "Bài 4: Nhập 2 số từ bàn phím và thực hiện các phép so sánh sau giữa 2 số:\n",
        "\n"
      ]
    },
    {
      "cell_type": "code",
      "metadata": {
        "colab": {
          "base_uri": "https://localhost:8080/"
        },
        "id": "ozYkNybjekQ2",
        "outputId": "d266db18-e17f-447c-8a89-04bece3f8924"
      },
      "source": [
        "a=float(input(\"nhap so thu nhat \"))\n",
        "b=float(input(\"nhap so thu hai \"))\n",
        "print(a>=b)\n",
        "print(a<=b)\n",
        "print(a>b)\n",
        "print(a<b)\n",
        "print(a!=b)"
      ],
      "execution_count": 34,
      "outputs": [
        {
          "output_type": "stream",
          "name": "stdout",
          "text": [
            "nhap so thu nhat 2\n",
            "nhap so thu hai 2\n",
            "True\n",
            "True\n",
            "False\n",
            "False\n",
            "False\n"
          ]
        }
      ]
    },
    {
      "cell_type": "markdown",
      "metadata": {
        "id": "I0UdJtLVlyjB"
      },
      "source": [
        "Bài 5: Nhập 1 chuỗi ký tự từ bàn phím:\n",
        "\n",
        "1. Chuyển thành chuỗi in hoa\n",
        "2. Chuyển thành chuỗi in thường"
      ]
    },
    {
      "cell_type": "code",
      "metadata": {
        "colab": {
          "base_uri": "https://localhost:8080/"
        },
        "id": "KuZQuQCmm0I-",
        "outputId": "b3b30768-5e21-40be-eca8-cb08cc7eae54"
      },
      "source": [
        "stra=str(input(\"nhap chuoi ki tu\"))\n",
        "print(\"in hoa\",stra.upper())\n",
        "print(\"in thuong\",stra.lower())\n"
      ],
      "execution_count": 43,
      "outputs": [
        {
          "output_type": "stream",
          "name": "stdout",
          "text": [
            "nhap chuoi ki tuhello\n",
            "in hoa HELLO\n",
            "in thuong hello\n"
          ]
        }
      ]
    },
    {
      "cell_type": "markdown",
      "metadata": {
        "id": "5nkPi_WXq2Ka"
      },
      "source": [
        "\n",
        "Bài 6: Xuất ra màn hình 1 chuỗi ký từ nằm trên nhiều hàng (có thể là 1 bài thơ tùy ý bạn lựa chọn)"
      ]
    },
    {
      "cell_type": "code",
      "metadata": {
        "colab": {
          "base_uri": "https://localhost:8080/"
        },
        "id": "_KC7Sl2YrI3o",
        "outputId": "0804932d-8c86-4cb5-fe73-5a75ac1cd182"
      },
      "source": [
        "print(\"Khi nào cần may áo giáp sắt \\nphải sang phố hỏi của hàng á phi âu\")\n",
        "\n",
        "print(\"\"\"hello\n",
        "boi\"\"\")"
      ],
      "execution_count": 48,
      "outputs": [
        {
          "output_type": "stream",
          "name": "stdout",
          "text": [
            "Khi nào cần may áo giáp sắt \n",
            "phải sang phố hỏi của hàng á phi âu\n",
            "hello\n",
            "boi\n"
          ]
        }
      ]
    },
    {
      "cell_type": "markdown",
      "metadata": {
        "id": "IN68gNVhmUMY"
      },
      "source": [
        ""
      ]
    }
  ]
}