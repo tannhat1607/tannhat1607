{
  "nbformat": 4,
  "nbformat_minor": 0,
  "metadata": {
    "colab": {
      "name": "Untitled0.ipynb",
      "provenance": [],
      "collapsed_sections": [],
      "authorship_tag": "ABX9TyNMswQ0kRM0oFFncMPtgEhR",
      "include_colab_link": true
    },
    "kernelspec": {
      "name": "python3",
      "display_name": "Python 3"
    },
    "language_info": {
      "name": "python"
    }
  },
  "cells": [
    {
      "cell_type": "markdown",
      "metadata": {
        "id": "view-in-github",
        "colab_type": "text"
      },
      "source": [
        "<a href=\"https://colab.research.google.com/github/tannhat1607/tannhat1607/blob/main/Untitled0.ipynb\" target=\"_parent\"><img src=\"https://colab.research.google.com/assets/colab-badge.svg\" alt=\"Open In Colab\"/></a>"
      ]
    },
    {
      "cell_type": "code",
      "metadata": {
        "colab": {
          "base_uri": "https://localhost:8080/"
        },
        "id": "rxvWA_nXzWay",
        "outputId": "96a0a8e1-492c-4666-9d5f-6e9837f558d2"
      },
      "source": [
        "x = float(input(\"nhap diem \"))\n",
        "if x >= 9:\n",
        "  print(\"xuat sac\")\n",
        "elif x >= 8:\n",
        "  print(\"gioi\")  \n",
        "elif x >= 7 :\n",
        "  print(\"kha\")\n",
        "elif x >= 5:\n",
        "  print(\"trung binh\")  \n",
        "else :\n",
        "  print(\"yeu\")  \n",
        "\n"
      ],
      "execution_count": null,
      "outputs": [
        {
          "output_type": "stream",
          "name": "stdout",
          "text": [
            "nhap diem 6.7\n",
            "trung binh\n"
          ]
        }
      ]
    }
  ]
}